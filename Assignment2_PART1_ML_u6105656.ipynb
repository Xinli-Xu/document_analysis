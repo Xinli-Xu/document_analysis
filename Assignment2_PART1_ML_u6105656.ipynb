{
 "cells": [
  {
   "cell_type": "markdown",
   "metadata": {},
   "source": [
    "# From text to a numerical representation\n",
    "Typically, Machine Learning algorithms require a vectorial representation for their data. In the IR module, we saw how text can be pre-processed, tokenized, and converted to vector representations. In this tutorial we will be re-using these ideas to create vector representations of documents for the purpose of training classifiers.\n",
    "\n",
    "We will be using the `scikit-learn` Python library, which provides functionallity for text pre-processing and training and using classifiers. "
   ]
  },
  {
   "cell_type": "code",
   "execution_count": 1,
   "metadata": {},
   "outputs": [],
   "source": [
    "## some configurations for notebook and importing modules\n",
    "%matplotlib inline\n",
    "%load_ext autoreload\n",
    "%autoreload 2\n",
    "\n",
    "import pandas as pd\n",
    "import numpy as np\n",
    "import matplotlib.pyplot as plt\n",
    "np.random.seed(6490)"
   ]
  },
  {
   "cell_type": "markdown",
   "metadata": {},
   "source": [
    "In this tutorial, we be using the `newsgroup dataset`, in which documents belong to one of nine categories.\n",
    "\n",
    "We beging by loading the dataset into a `pandas` Dataframe, which is a two-dimensional labeled data-structure (similar to a table), in which columns represent attributes and rows represent data instances. \n",
    "\n",
    "In the resulting `dataset` Dataframe, each row is a document, and the columns represent the id, category and text, of the given document."
   ]
  },
  {
   "cell_type": "code",
   "execution_count": 2,
   "metadata": {},
   "outputs": [
    {
     "name": "stderr",
     "output_type": "stream",
     "text": [
      "[nltk_data] Downloading package stopwords to\n",
      "[nltk_data]     /Users/blimmmmk/nltk_data...\n",
      "[nltk_data]   Package stopwords is already up-to-date!\n"
     ]
    },
    {
     "data": {
      "text/html": [
       "<div>\n",
       "<style scoped>\n",
       "    .dataframe tbody tr th:only-of-type {\n",
       "        vertical-align: middle;\n",
       "    }\n",
       "\n",
       "    .dataframe tbody tr th {\n",
       "        vertical-align: top;\n",
       "    }\n",
       "\n",
       "    .dataframe thead th {\n",
       "        text-align: right;\n",
       "    }\n",
       "</style>\n",
       "<table border=\"1\" class=\"dataframe\">\n",
       "  <thead>\n",
       "    <tr style=\"text-align: right;\">\n",
       "      <th></th>\n",
       "      <th>id</th>\n",
       "      <th>category</th>\n",
       "      <th>text</th>\n",
       "    </tr>\n",
       "  </thead>\n",
       "  <tbody>\n",
       "    <tr>\n",
       "      <td>0</td>\n",
       "      <td>51832</td>\n",
       "      <td>comp.sys.mac.hardware</td>\n",
       "      <td>From: walsteyn@fys.ruu.nl (Fred Walsteijn)\\nSu...</td>\n",
       "    </tr>\n",
       "    <tr>\n",
       "      <td>1</td>\n",
       "      <td>51658</td>\n",
       "      <td>comp.sys.mac.hardware</td>\n",
       "      <td>From: jas@ISI.EDU (Jeff Sullivan)\\nSubject: AD...</td>\n",
       "    </tr>\n",
       "    <tr>\n",
       "      <td>2</td>\n",
       "      <td>52029</td>\n",
       "      <td>comp.sys.mac.hardware</td>\n",
       "      <td>From: ross@vorpal.ucsb.edu (Richard Ross)\\nSub...</td>\n",
       "    </tr>\n",
       "    <tr>\n",
       "      <td>3</td>\n",
       "      <td>51667</td>\n",
       "      <td>comp.sys.mac.hardware</td>\n",
       "      <td>From: Ravi Konchigeri &lt;mongoose@leland.stanfor...</td>\n",
       "    </tr>\n",
       "    <tr>\n",
       "      <td>4</td>\n",
       "      <td>52224</td>\n",
       "      <td>comp.sys.mac.hardware</td>\n",
       "      <td>From: Kevin Hester &lt;kevinh@apple.com&gt;\\nSubject...</td>\n",
       "    </tr>\n",
       "  </tbody>\n",
       "</table>\n",
       "</div>"
      ],
      "text/plain": [
       "      id               category  \\\n",
       "0  51832  comp.sys.mac.hardware   \n",
       "1  51658  comp.sys.mac.hardware   \n",
       "2  52029  comp.sys.mac.hardware   \n",
       "3  51667  comp.sys.mac.hardware   \n",
       "4  52224  comp.sys.mac.hardware   \n",
       "\n",
       "                                                text  \n",
       "0  From: walsteyn@fys.ruu.nl (Fred Walsteijn)\\nSu...  \n",
       "1  From: jas@ISI.EDU (Jeff Sullivan)\\nSubject: AD...  \n",
       "2  From: ross@vorpal.ucsb.edu (Richard Ross)\\nSub...  \n",
       "3  From: Ravi Konchigeri <mongoose@leland.stanfor...  \n",
       "4  From: Kevin Hester <kevinh@apple.com>\\nSubject...  "
      ]
     },
     "execution_count": 2,
     "metadata": {},
     "output_type": "execute_result"
    }
   ],
   "source": [
    "from data import read_as_df\n",
    "from prepros import preprocessor\n",
    "import os.path\n",
    "\n",
    "path_to_dataset = os.path.join('question_1_data', 'newsgroups')\n",
    "\n",
    "dataset = read_as_df(path_to_dataset)\n",
    "dataset.head()"
   ]
  },
  {
   "cell_type": "markdown",
   "metadata": {},
   "source": [
    "We use the preprocessing function in the file `prepros.py`, to pre-process each document in the dataset. \n",
    "This will add a new column to the previously created Dataframe.\n",
    "\n",
    "**NB** This next block might take a while to execute."
   ]
  },
  {
   "cell_type": "code",
   "execution_count": 3,
   "metadata": {},
   "outputs": [
    {
     "data": {
      "text/html": [
       "<div>\n",
       "<style scoped>\n",
       "    .dataframe tbody tr th:only-of-type {\n",
       "        vertical-align: middle;\n",
       "    }\n",
       "\n",
       "    .dataframe tbody tr th {\n",
       "        vertical-align: top;\n",
       "    }\n",
       "\n",
       "    .dataframe thead th {\n",
       "        text-align: right;\n",
       "    }\n",
       "</style>\n",
       "<table border=\"1\" class=\"dataframe\">\n",
       "  <thead>\n",
       "    <tr style=\"text-align: right;\">\n",
       "      <th></th>\n",
       "      <th>id</th>\n",
       "      <th>category</th>\n",
       "      <th>text</th>\n",
       "      <th>tokens</th>\n",
       "    </tr>\n",
       "  </thead>\n",
       "  <tbody>\n",
       "    <tr>\n",
       "      <td>0</td>\n",
       "      <td>51832</td>\n",
       "      <td>comp.sys.mac.hardware</td>\n",
       "      <td>From: walsteyn@fys.ruu.nl (Fred Walsteijn)\\nSu...</td>\n",
       "      <td>[walsteyn, fys, ruu, nl, fred, walsteijn, subj...</td>\n",
       "    </tr>\n",
       "    <tr>\n",
       "      <td>1</td>\n",
       "      <td>51658</td>\n",
       "      <td>comp.sys.mac.hardware</td>\n",
       "      <td>From: jas@ISI.EDU (Jeff Sullivan)\\nSubject: AD...</td>\n",
       "      <td>[jas, isi, edu, jeff, sullivan, subject, adb, ...</td>\n",
       "    </tr>\n",
       "    <tr>\n",
       "      <td>2</td>\n",
       "      <td>52029</td>\n",
       "      <td>comp.sys.mac.hardware</td>\n",
       "      <td>From: ross@vorpal.ucsb.edu (Richard Ross)\\nSub...</td>\n",
       "      <td>[ross, vorpal, ucsb, edu, richard, ross, subje...</td>\n",
       "    </tr>\n",
       "    <tr>\n",
       "      <td>3</td>\n",
       "      <td>51667</td>\n",
       "      <td>comp.sys.mac.hardware</td>\n",
       "      <td>From: Ravi Konchigeri &lt;mongoose@leland.stanfor...</td>\n",
       "      <td>[ravi, konchigeri, mongoos, leland, stanford, ...</td>\n",
       "    </tr>\n",
       "    <tr>\n",
       "      <td>4</td>\n",
       "      <td>52224</td>\n",
       "      <td>comp.sys.mac.hardware</td>\n",
       "      <td>From: Kevin Hester &lt;kevinh@apple.com&gt;\\nSubject...</td>\n",
       "      <td>[kevin, hester, kevinh, appl, com, subject, ii...</td>\n",
       "    </tr>\n",
       "  </tbody>\n",
       "</table>\n",
       "</div>"
      ],
      "text/plain": [
       "      id               category  \\\n",
       "0  51832  comp.sys.mac.hardware   \n",
       "1  51658  comp.sys.mac.hardware   \n",
       "2  52029  comp.sys.mac.hardware   \n",
       "3  51667  comp.sys.mac.hardware   \n",
       "4  52224  comp.sys.mac.hardware   \n",
       "\n",
       "                                                text  \\\n",
       "0  From: walsteyn@fys.ruu.nl (Fred Walsteijn)\\nSu...   \n",
       "1  From: jas@ISI.EDU (Jeff Sullivan)\\nSubject: AD...   \n",
       "2  From: ross@vorpal.ucsb.edu (Richard Ross)\\nSub...   \n",
       "3  From: Ravi Konchigeri <mongoose@leland.stanfor...   \n",
       "4  From: Kevin Hester <kevinh@apple.com>\\nSubject...   \n",
       "\n",
       "                                              tokens  \n",
       "0  [walsteyn, fys, ruu, nl, fred, walsteijn, subj...  \n",
       "1  [jas, isi, edu, jeff, sullivan, subject, adb, ...  \n",
       "2  [ross, vorpal, ucsb, edu, richard, ross, subje...  \n",
       "3  [ravi, konchigeri, mongoos, leland, stanford, ...  \n",
       "4  [kevin, hester, kevinh, appl, com, subject, ii...  "
      ]
     },
     "execution_count": 3,
     "metadata": {},
     "output_type": "execute_result"
    }
   ],
   "source": [
    "dataset['tokens'] = dataset['text'].apply(preprocessor)\n",
    "dataset.head()"
   ]
  },
  {
   "cell_type": "markdown",
   "metadata": {},
   "source": [
    "\n",
    "## CountVectorizer\n",
    "\n",
    "We use scikit-learn's [CountVectorizer](http://scikit-learn.org/stable/modules/generated/sklearn.feature_extraction.text.CountVectorizer.html) for vectorizing the tokens.\n",
    "\n",
    "CountVectorizer itself can remove stop_words, convert text into lowercase tokens.\n",
    "However, we will not use these options since we have already built a more sophisticated tokenizer, which can stem tokens (which not readily available in scikit-learn). \n",
    "\n",
    "To use our tokenizer, we define CountVectorizer with options `tokenizer = lambda x: x`, which means we are asking CountVectorizer to apply the identity function, as we already have a list of tokens available. \n",
    "\n",
    "Note that we can set `binary=True` option to use a boolean representation. Setting it to False outputs a term-frequency representation."
   ]
  },
  {
   "cell_type": "code",
   "execution_count": 4,
   "metadata": {
    "scrolled": true
   },
   "outputs": [
    {
     "name": "stdout",
     "output_type": "stream",
     "text": [
      "  (0, 3765)\t4\n",
      "  (0, 2945)\t4\n",
      "  (0, 1673)\t3\n",
      "  (0, 4172)\t1\n",
      "  (0, 4702)\t1\n",
      "  (0, 3394)\t3\n",
      "  (0, 2562)\t2\n",
      "  (0, 2060)\t2\n",
      "  (0, 3094)\t1\n",
      "  (0, 3256)\t1\n",
      "  (0, 1103)\t1\n",
      "  (0, 4570)\t2\n",
      "  (0, 4625)\t2\n",
      "  (0, 2908)\t2\n",
      "  (0, 2482)\t3\n",
      "  (0, 4882)\t1\n",
      "  (0, 3852)\t1\n",
      "  (0, 1628)\t1\n",
      "  (0, 3059)\t1\n",
      "  (0, 4352)\t1\n",
      "  (0, 2565)\t1\n",
      "  (0, 2644)\t1\n",
      "  (0, 3522)\t1\n",
      "  (0, 2152)\t1\n",
      "  (0, 2983)\t1\n",
      "  :\t:\n",
      "  (0, 1289)\t2\n",
      "  (0, 3654)\t1\n",
      "  (0, 3726)\t1\n",
      "  (0, 423)\t1\n",
      "  (0, 1026)\t1\n",
      "  (0, 204)\t1\n",
      "  (0, 3399)\t2\n",
      "  (0, 1327)\t2\n",
      "  (0, 3373)\t1\n",
      "  (0, 1661)\t1\n",
      "  (0, 175)\t1\n",
      "  (0, 3407)\t1\n",
      "  (0, 4435)\t1\n",
      "  (0, 882)\t1\n",
      "  (0, 406)\t1\n",
      "  (0, 234)\t1\n",
      "  (0, 4328)\t1\n",
      "  (0, 2125)\t1\n",
      "  (0, 2179)\t1\n",
      "  (0, 2155)\t1\n",
      "  (0, 2612)\t1\n",
      "  (0, 272)\t1\n",
      "  (0, 3638)\t1\n",
      "  (0, 1544)\t1\n",
      "  (0, 3249)\t1\n"
     ]
    }
   ],
   "source": [
    "from sklearn.feature_extraction.text import CountVectorizer\n",
    "bow_vectorizer = CountVectorizer(lowercase = False, \n",
    "                                     tokenizer = lambda x: x, # because we already have tokens available\n",
    "                                     stop_words = None, ## stop words removal already done from NLTK\n",
    "                                     max_features = 5000, ## pick top 5K words by frequency\n",
    "                                     ngram_range = (1, 1), ## we want unigrams for now\n",
    "                                     binary = False) ## we want frequency count features\n",
    "text_vec = bow_vectorizer.fit_transform(dataset.tokens)\n",
    "print(text_vec[0, ]) ## see the features indices that are set to 1"
   ]
  },
  {
   "cell_type": "markdown",
   "metadata": {},
   "source": [
    "The vectorial representation represents each document as a vector, in which each dimension corresponds to a word/token in the vocabulary build from the entire dataset/corpus. \n",
    "\n",
    "For example, one of the line in the output states:\n",
    "\n",
    "`(0, 3863)\t6`\n",
    "\n",
    "which means that the first document has 6 occurrences of the $3863^{th}$ feature (word).\n",
    "\n",
    "Let's see what word corresponds to that index, and what are the first 100 features:"
   ]
  },
  {
   "cell_type": "code",
   "execution_count": 5,
   "metadata": {
    "scrolled": true
   },
   "outputs": [
    {
     "name": "stdout",
     "output_type": "stream",
     "text": [
      "senior\n",
      "['aa', 'aaron', 'ab', 'abil', 'abl', 'abort', 'absolut', 'abstract', 'absurd', 'abus', 'ac', 'academ', 'acc', 'acceler', 'accept', 'access', 'accid', 'accommod', 'accompani', 'accomplish', 'accord', 'account', 'accumul', 'accur', 'accuraci', 'achiev', 'acid', 'acknowledg', 'acm', 'acn', 'acquir', 'acronym', 'across', 'acsu', 'act', 'action', 'activ', 'actual', 'ad', 'adam', 'adapt', 'adaptec', 'adaptor', 'adb', 'adcom', 'add', 'addit', 'address', 'adequ', 'adhes', 'adjust', 'admin', 'administr', 'admit', 'adob', 'adopt', 'adress', 'adrian', 'adult', 'advanc', 'advantag', 'advertis', 'advic', 'advis', 'advisori', 'advoc', 'ae', 'aerospac', 'af', 'affect', 'afford', 'afraid', 'africa', 'ag', 'agat', 'age', 'agenc', 'agent', 'ago', 'agora', 'agre', 'agreement', 'ah', 'ahead', 'ahf', 'ai', 'aid', 'aim', 'air', 'aircraft', 'aix', 'aj', 'ajz', 'ak', 'aka', 'al', 'ala', 'alabama', 'alan', 'alaska']\n"
     ]
    }
   ],
   "source": [
    "print(bow_vectorizer.get_feature_names()[3863])\n",
    "## list of feature names (they are just tokens here)\n",
    "print(bow_vectorizer.get_feature_names()[:100])"
   ]
  },
  {
   "cell_type": "markdown",
   "metadata": {},
   "source": [
    "## The sparsity of the feature space\n",
    "The feature space is sparse, and as a result CountVectorizer represents documents them using a [sparse matrix](https://docs.scipy.org/doc/scipy/reference/generated/scipy.sparse.csr_matrix.html), instead of a [dense matrix](https://docs.scipy.org/doc/numpy-1.13.0/reference/arrays.html)\n",
    "(if each document is a vector, a collection of documents corresponds to a matrix).\n",
    "\n",
    "To verify this, we can check how many features are enabled in the matrix corresponding to our dataset:"
   ]
  },
  {
   "cell_type": "code",
   "execution_count": 6,
   "metadata": {},
   "outputs": [
    {
     "name": "stdout",
     "output_type": "stream",
     "text": [
      "685776 values are set, out of a maximum of 88430000 = 0.78%\n"
     ]
    }
   ],
   "source": [
    "print('{} values are set, out of a maximum of {} = {:.2f}%'.format(\n",
    "    text_vec.nnz, dataset.shape[0] * 10000, 1.0 * text_vec.nnz / (dataset.shape[0] * 10000) * 100))"
   ]
  },
  {
   "cell_type": "markdown",
   "metadata": {},
   "source": [
    "As we can see, less than 1% of the matrix elements are set, so representing the data with dense matrix would be an inefficient usage of memory. \n",
    "Hence, `scikit-learn`'s [Count vectorizer](http://scikit-learn.org/stable/modules/generated/sklearn.feature_extraction.text.CountVectorizer.html) internally uses sparse representations."
   ]
  },
  {
   "cell_type": "markdown",
   "metadata": {},
   "source": [
    "# Question 1 [7 pts]\n",
    "\n",
    "<span style=\"color:blue\">\n",
    "    \n",
    "### Sections 1.2-1.5 of this notebook each have some tasks for you to complete, these are marked in blue. Completeing these tasks is question 1 of the ML assignment, and you will need to submit this notebook along with your NLP Assignment.ipynb notebook.\n",
    "</span>\n",
    "\n",
    "# 1. Building a classifier\n",
    "\n",
    "## 1.1 Naive Bayes Classifier\n",
    "\n",
    "Having represented documents in the Vector Space Model, we can now start building a Naive Bayes textual classifier.\n",
    "\n",
    "To do so, we need will need counts of the term occurrences when computing the $ \\hat P(t | c)$.\n",
    "This amounts to constructing a term-frequency vectorial representation.\n",
    "\n",
    "Therefore, the [Naive bayes classifier](http://scikit-learn.org/stable/modules/generated/sklearn.naive_bayes.MultinomialNB.html#sklearn.naive_bayes.MultinomialNB) implementation available in `scikit-learn` requires the document collection to be in a vectorial representation prior to training Naive Bayes.\n",
    "\n",
    "Next, we split the dataset into a training set (75% of the dataset) and a testing set (25% of the dataset). \n",
    "We train a Naive Bayes Classifier on the training set, and we perform the predictions on the test set.\n",
    "\n",
    "**NB** that we are using `LabelEncoder` here to encode labels/classes of documents as numbers. \n",
    "The 9 classes will be mapped into numbers from 0 to 8 using this label encoder. \n",
    "We require this to render the dataset compatible with `scikit-learn` and the plotting libraries."
   ]
  },
  {
   "cell_type": "code",
   "execution_count": 7,
   "metadata": {},
   "outputs": [],
   "source": [
    "from sklearn.naive_bayes import MultinomialNB\n",
    "msk = np.random.rand(len(dataset)) < 0.75\n",
    "from sklearn.preprocessing import LabelEncoder\n",
    "le = LabelEncoder()\n",
    "\n",
    "train_X = text_vec[msk]\n",
    "test_X = text_vec[~msk]\n",
    "\n",
    "y = le.fit_transform(dataset.category)\n",
    "train_y = y[msk]\n",
    "test_y = y[~msk]"
   ]
  },
  {
   "cell_type": "markdown",
   "metadata": {},
   "source": [
    "We train the classifier using:"
   ]
  },
  {
   "cell_type": "code",
   "execution_count": 8,
   "metadata": {},
   "outputs": [
    {
     "data": {
      "text/plain": [
       "MultinomialNB(alpha=1.0, class_prior=None, fit_prior=True)"
      ]
     },
     "execution_count": 8,
     "metadata": {},
     "output_type": "execute_result"
    }
   ],
   "source": [
    "classifier =  MultinomialNB()\n",
    "classifier.fit(train_X, train_y)"
   ]
  },
  {
   "cell_type": "markdown",
   "metadata": {},
   "source": [
    "To make predictions, we use the `predict` method."
   ]
  },
  {
   "cell_type": "code",
   "execution_count": 9,
   "metadata": {
    "scrolled": true
   },
   "outputs": [
    {
     "name": "stdout",
     "output_type": "stream",
     "text": [
      "['comp.sys.mac.hardware', 'comp.sys.mac.hardware', 'comp.sys.mac.hardware', 'comp.sys.mac.hardware', 'comp.sys.mac.hardware', 'comp.sys.ibm.pc.hardware', 'comp.sys.mac.hardware', 'comp.sys.mac.hardware', 'comp.sys.mac.hardware', 'comp.sys.ibm.pc.hardware', 'comp.sys.mac.hardware', 'comp.sys.mac.hardware', 'comp.sys.mac.hardware', 'comp.sys.mac.hardware', 'comp.sys.mac.hardware', 'comp.sys.mac.hardware', 'comp.sys.mac.hardware', 'comp.sys.mac.hardware', 'comp.sys.ibm.pc.hardware', 'comp.sys.mac.hardware', 'comp.sys.mac.hardware', 'comp.sys.mac.hardware', 'comp.sys.mac.hardware', 'comp.sys.mac.hardware', 'comp.sys.mac.hardware', 'comp.sys.mac.hardware', 'comp.sys.mac.hardware', 'comp.sys.mac.hardware', 'comp.sys.mac.hardware', 'comp.sys.mac.hardware', 'comp.sys.ibm.pc.hardware', 'comp.sys.mac.hardware', 'comp.sys.mac.hardware', 'comp.sys.ibm.pc.hardware', 'comp.sys.mac.hardware', 'comp.sys.mac.hardware', 'comp.sys.mac.hardware', 'comp.sys.mac.hardware', 'comp.sys.mac.hardware', 'comp.sys.mac.hardware', 'comp.sys.mac.hardware', 'comp.sys.mac.hardware', 'comp.sys.mac.hardware', 'comp.sys.mac.hardware', 'comp.sys.mac.hardware', 'comp.sys.mac.hardware', 'comp.sys.mac.hardware', 'comp.sys.mac.hardware', 'comp.sys.mac.hardware', 'comp.sys.mac.hardware', 'comp.sys.mac.hardware', 'comp.sys.mac.hardware', 'comp.sys.mac.hardware', 'comp.graphics', 'comp.sys.mac.hardware', 'comp.sys.mac.hardware', 'comp.sys.mac.hardware', 'comp.sys.mac.hardware', 'comp.sys.mac.hardware', 'comp.sys.mac.hardware', 'comp.sys.mac.hardware', 'comp.sys.mac.hardware', 'comp.sys.mac.hardware', 'comp.sys.mac.hardware', 'comp.sys.ibm.pc.hardware', 'comp.sys.mac.hardware', 'comp.sys.mac.hardware', 'sci.electronics', 'comp.sys.mac.hardware', 'comp.sys.mac.hardware', 'comp.sys.mac.hardware', 'comp.sys.mac.hardware', 'comp.sys.ibm.pc.hardware', 'comp.sys.mac.hardware', 'comp.sys.mac.hardware', 'comp.sys.mac.hardware', 'comp.sys.mac.hardware', 'comp.sys.ibm.pc.hardware', 'comp.sys.mac.hardware', 'comp.sys.mac.hardware', 'comp.sys.mac.hardware', 'comp.sys.mac.hardware', 'comp.sys.mac.hardware', 'comp.sys.mac.hardware', 'comp.sys.mac.hardware', 'comp.sys.mac.hardware', 'comp.sys.mac.hardware', 'comp.sys.mac.hardware', 'comp.sys.mac.hardware', 'comp.sys.mac.hardware', 'comp.sys.mac.hardware', 'comp.sys.mac.hardware', 'comp.sys.mac.hardware', 'comp.sys.mac.hardware', 'comp.sys.mac.hardware', 'sci.electronics', 'comp.sys.mac.hardware', 'comp.sys.mac.hardware', 'comp.sys.mac.hardware', 'comp.sys.mac.hardware']\n"
     ]
    }
   ],
   "source": [
    "preds_bow = classifier.predict(test_X)\n",
    "to_print = [le.inverse_transform([pred])[0] for pred in preds_bow ]\n",
    "print(to_print[:100])"
   ]
  },
  {
   "cell_type": "markdown",
   "metadata": {},
   "source": [
    "## 1.2 Evaluating the prediction performance [1 pts]\n",
    "To evaluate how well the classifier performed, we compute the confusion matrix, as well as the overall accuracy, and the per-class precision, recall and F1 measure. \n",
    "\n",
    "<span style=\"color:blue\">\n",
    "\n",
    "### You will need to fill in the code that computes these measure, but note that these are all implemented in the scikit_learn library, and you should make use of this. [1 pts]\n",
    "</span>."
   ]
  },
  {
   "cell_type": "code",
   "execution_count": 10,
   "metadata": {
    "scrolled": true
   },
   "outputs": [
    {
     "name": "stdout",
     "output_type": "stream",
     "text": [
      "accuracy = 0.7777777777777778\n",
      "                          prec  rec   F1\n",
      "            comp.graphics 0.71 0.76 0.73\n",
      "  comp.os.ms-windows.misc 0.72 0.05 0.10\n",
      " comp.sys.ibm.pc.hardware 0.53 0.83 0.64\n",
      "    comp.sys.mac.hardware 0.67 0.92 0.77\n",
      "           comp.windows.x 0.82 0.83 0.83\n",
      "                sci.crypt 0.96 0.95 0.95\n",
      "          sci.electronics 0.84 0.82 0.83\n",
      "                  sci.med 0.94 0.91 0.93\n",
      "                sci.space 0.94 0.94 0.94\n",
      "confusion matrix:\n",
      "[[191   0  22  11   6   2   8   6   5]\n",
      " [ 32  13 112  40  35   3   7   2   1]\n",
      " [  4   4 204  24   1   0   9   1   0]\n",
      " [  3   0  13 208   0   0   3   0   0]\n",
      " [ 17   1  14   6 201   0   1   0   2]\n",
      " [  4   0   2   1   1 225   4   1   0]\n",
      " [  8   0  17  15   0   1 214   2   4]\n",
      " [  4   0   2   5   0   3   5 239   4]\n",
      " [  6   0   2   1   0   1   3   3 234]]\n"
     ]
    }
   ],
   "source": [
    "from sklearn.metrics import confusion_matrix,accuracy_score,precision_recall_fscore_support\n",
    "def print_metrics(y, pred_y):\n",
    "    confusion = confusion_matrix(y, pred_y)\n",
    "    acc = accuracy_score(y, pred_y)\n",
    "    precisions, recalls, f1_scores, _ = precision_recall_fscore_support(y, pred_y, average=None)  \n",
    "\n",
    "    print(\"accuracy = {}\".format(acc))\n",
    "\n",
    "    print(\"{:>25} {:>4} {:>4} {:>4}\".format(\"\", \"prec\", \"rec\", \"F1\"))\n",
    "    for (idx, scores) in enumerate(zip(precisions, recalls, f1_scores)):\n",
    "        print(\"{:>25} {:.2f} {:.2f} {:.2f}\".format(\n",
    "            le.inverse_transform([idx])[0], scores[0], scores[1], scores[2]\n",
    "    ))\n",
    "\n",
    "    print('confusion matrix:\\n{}'.format( confusion) )\n",
    "    \n",
    "    return acc\n",
    "\n",
    "acc_bow = print_metrics(test_y, preds_bow)"
   ]
  },
  {
   "cell_type": "markdown",
   "metadata": {},
   "source": [
    "## 1.3 Improving the performance with different feature representations [2 pts]\n",
    "\n",
    "We attempt to improve the classifier's performance using other features.\n",
    "We start with the boolean features: whenever a feature (token) appears in a document we mark a value of 1 instead of number of occurrence of that token.\n",
    "\n",
    "We can pipeline vectorization, and classifier in scikit learn. Refer [this documentation](http://scikit-learn.org/stable/modules/generated/sklearn.pipeline.Pipeline.html) for more information."
   ]
  },
  {
   "cell_type": "code",
   "execution_count": 11,
   "metadata": {},
   "outputs": [],
   "source": [
    "le = LabelEncoder()\n",
    "\n",
    "train_X = dataset.tokens[msk]\n",
    "test_X = dataset.tokens[~msk]\n",
    "y = le.fit_transform(dataset.category)\n",
    "train_y = y[msk]\n",
    "test_y = y[~msk]"
   ]
  },
  {
   "cell_type": "markdown",
   "metadata": {},
   "source": [
    "Again we will use CountVectorizer, but the difference here is `binary = True` argument, which tells CountVectorizer to use binary features instead of term frequencies."
   ]
  },
  {
   "cell_type": "markdown",
   "metadata": {},
   "source": [
    "<span style=\"color:blue\">\n",
    "\n",
    "### You will need to fill in the code to fit the pipeline model on the training data and create predictions for the test data. [1 pts]\n",
    "</span>"
   ]
  },
  {
   "cell_type": "code",
   "execution_count": 12,
   "metadata": {},
   "outputs": [
    {
     "name": "stdout",
     "output_type": "stream",
     "text": [
      "accuracy = 0.8421052631578947\n",
      "                          prec  rec   F1\n",
      "            comp.graphics 0.71 0.77 0.74\n",
      "  comp.os.ms-windows.misc 0.75 0.77 0.76\n",
      " comp.sys.ibm.pc.hardware 0.72 0.77 0.74\n",
      "    comp.sys.mac.hardware 0.80 0.90 0.85\n",
      "           comp.windows.x 0.87 0.88 0.88\n",
      "                sci.crypt 0.97 0.92 0.95\n",
      "          sci.electronics 0.89 0.74 0.81\n",
      "                  sci.med 0.96 0.90 0.93\n",
      "                sci.space 0.94 0.92 0.93\n",
      "confusion matrix:\n",
      "[[194  11  13   6  13   3   6   2   3]\n",
      " [ 14 189  28   2  11   0   1   0   0]\n",
      " [  6  21 190  21   1   0   6   2   0]\n",
      " [  6   2   9 204   2   1   2   0   1]\n",
      " [ 13  11   3   2 213   0   0   0   0]\n",
      " [  4   4   1   2   3 220   2   2   0]\n",
      " [ 17   7  18  17   0   1 194   0   7]\n",
      " [  9   5   2   1   1   1   3 237   3]\n",
      " [ 10   1   0   0   0   1   4   3 231]]\n"
     ]
    }
   ],
   "source": [
    "bin_vectorizer = CountVectorizer(lowercase = False, \n",
    "                                     tokenizer = lambda x: x, # because we already have tokens available\n",
    "                                     stop_words = None, ## stop words removal already done from NLTK\n",
    "                                     max_features = 5000, ## pick top 5K words by frequency\n",
    "                                     ngram_range = (1, 1), ## we want unigrams now\n",
    "                                     binary = True) ## Now it is Binary\n",
    "\n",
    "from sklearn.pipeline import Pipeline\n",
    "\n",
    "pipeline = Pipeline([\n",
    "    ('bow',  bin_vectorizer),\n",
    "    ('naive-bayes',  MultinomialNB()) ])\n",
    "\n",
    "# Train the pipeline and create predictions for the test set.\n",
    "pipeline.fit(train_X, train_y)\n",
    "preds_bin = pipeline.predict(test_X)\n",
    "acc_bin = print_metrics(test_y, preds_bin)"
   ]
  },
  {
   "cell_type": "markdown",
   "metadata": {},
   "source": [
    "<span style=\"color:blue\">\n",
    "\n",
    "### Did changing the model to use boolean features instead of term-frequency increase or decrease the model's performance? Explain why the performance did or did not change. [1 pts]\n",
    "</span>"
   ]
  },
  {
   "cell_type": "markdown",
   "metadata": {},
   "source": [
    "<span style=\"color:blue\"> YOUR ANSWER HERE </span> <br>\n",
    "Using the boolean features instead of term-frequency features, the model's performance increases. \n",
    "The difference between two models is boolean features count whether a token appears instead of how many times a token appears. There are some tokens which are not very useful for classifying classes but with high term frequency in some texts (say word A frequently appears in class B however it is not a characteristics word for class B). Some text with such tokens may be assigned to wrong classes. When model uses the boolean features, all tokens have the same proportion for classifying which avoids the above situation. The performance correspondly increases."
   ]
  },
  {
   "cell_type": "markdown",
   "metadata": {},
   "source": [
    "## 1.4 Improving the performance with  TFIDF [2 pts]\n",
    "TF-IDF reflects how important a token/term is to a document, with respect to the entire collection of documents. \n",
    "\n",
    "<span style=\"color:blue\">\n",
    "\n",
    "\n",
    "### To build a pipeline with TF-IDF representation, you will need to add a [TfidfTransformer](http://scikit-learn.org/stable/modules/generated/sklearn.feature_extraction.text.TfidfTransformer.html) after the bag-of-words vectorizer. [1 pts]\n",
    "</span>\n",
    "\n",
    "It means that we are transforming the token counts using TF-IDF."
   ]
  },
  {
   "cell_type": "code",
   "execution_count": 13,
   "metadata": {},
   "outputs": [
    {
     "name": "stdout",
     "output_type": "stream",
     "text": [
      "accuracy = 0.860548807917229\n",
      "                          prec  rec   F1\n",
      "            comp.graphics 0.81 0.80 0.80\n",
      "  comp.os.ms-windows.misc 0.75 0.84 0.79\n",
      " comp.sys.ibm.pc.hardware 0.77 0.79 0.78\n",
      "    comp.sys.mac.hardware 0.84 0.89 0.86\n",
      "           comp.windows.x 0.88 0.88 0.88\n",
      "                sci.crypt 0.93 0.95 0.94\n",
      "          sci.electronics 0.88 0.76 0.82\n",
      "                  sci.med 0.97 0.90 0.93\n",
      "                sci.space 0.93 0.95 0.94\n",
      "confusion matrix:\n",
      "[[200  15   8   4  12   4   4   1   3]\n",
      " [  6 206  22   0   9   1   1   0   0]\n",
      " [  3  23 194  16   3   1   7   0   0]\n",
      " [  3   5  11 202   1   0   4   0   1]\n",
      " [ 10  11   2   2 214   1   0   0   2]\n",
      " [  4   2   1   0   2 225   2   2   0]\n",
      " [  9   8  15  15   2   5 198   1   8]\n",
      " [  5   5   0   2   0   3   7 236   4]\n",
      " [  7   0   0   0   0   1   1   3 238]]\n"
     ]
    }
   ],
   "source": [
    "from sklearn.feature_extraction.text import TfidfTransformer\n",
    "# https://scikit-learn.org/stable/modules/feature_extraction.html#the-bag-of-words-representation\n",
    "# Create the pipeline and train and evaluate the model.\n",
    "pipeline = Pipeline([\n",
    "    ('bow',  bow_vectorizer),\n",
    "    ('tfidf', TfidfTransformer()),\n",
    "    ('naive-bayes',  MultinomialNB()) ])\n",
    "pipeline.fit(train_X, train_y)\n",
    "preds_tfidf = pipeline.predict(test_X)\n",
    "acc_tfidf = print_metrics(test_y, preds_tfidf)"
   ]
  },
  {
   "cell_type": "markdown",
   "metadata": {},
   "source": [
    "<span style=\"color:blue\">\n",
    "\n",
    "### Did changing the model to use tf-idf features increase or decrease the model's performance? Explain why the performance did or did not change. [1 pts]\n",
    "</span>"
   ]
  },
  {
   "cell_type": "markdown",
   "metadata": {},
   "source": [
    "<span style=\"color:blue\"> YOUR ANSWER HERE </span> <br>\n",
    "Using the tf-idf features instead of term-frequency features, the model's performance increases. \n",
    "The tf-idf is calculated by the multiplication of term frequency and inverse document frequency. The rare word has high idf value and usally is associated with a specific class. If a text has high frequency of a rare word, there is a high probabilty that the text belongs to the class(which is associated with the rare word). The tf-idf features filter out the tokens with high frequency but not characteristic. So the model's performance increases."
   ]
  },
  {
   "cell_type": "code",
   "execution_count": 14,
   "metadata": {},
   "outputs": [
    {
     "data": {
      "text/plain": [
       "<matplotlib.axes._subplots.AxesSubplot at 0x1a2a124748>"
      ]
     },
     "execution_count": 14,
     "metadata": {},
     "output_type": "execute_result"
    },
    {
     "data": {
      "image/png": "[encoded data removed]",
      "text/plain": [
       "<Figure size 432x288 with 1 Axes>"
      ]
     },
     "metadata": {
      "needs_background": "light"
     },
     "output_type": "display_data"
    }
   ],
   "source": [
    "accuracies = pd.DataFrame(\n",
    "    [('tf', acc_bow), ('binary', acc_bin), ('tfidf', acc_tfidf)], \n",
    "    columns = ['feature_rep', 'accuracy']\n",
    ").set_index('feature_rep')\n",
    "accuracies.plot.bar(ylim = (0.7, 0.9))"
   ]
  },
  {
   "cell_type": "markdown",
   "metadata": {
    "collapsed": true
   },
   "source": [
    "## 1.5 Further improving performance with Bigrams features [2 pts]\n",
    "Until now, we created feature representations using unigrams, i.e. taking one token as a feature. \n",
    "The main disadvantage of doing this is that we loss positional information in unigram feature representation. \n",
    "To address this, we can use n-gram as a features: we use sequences of n words to construct features.\n",
    "\n",
    "<span style=\"color:blue\">\n",
    "\n",
    "### You will need to train your best performing model, this time usinig both unigram and bigram features. [1 pts]\n",
    "</span>"
   ]
  },
  {
   "cell_type": "code",
   "execution_count": 15,
   "metadata": {},
   "outputs": [
    {
     "name": "stdout",
     "output_type": "stream",
     "text": [
      "accuracy = 0.8344579397210976\n",
      "                          prec  rec   F1\n",
      "            comp.graphics 0.78 0.76 0.77\n",
      "  comp.os.ms-windows.misc 0.73 0.80 0.77\n",
      " comp.sys.ibm.pc.hardware 0.72 0.76 0.74\n",
      "    comp.sys.mac.hardware 0.80 0.87 0.83\n",
      "           comp.windows.x 0.83 0.86 0.84\n",
      "                sci.crypt 0.96 0.92 0.94\n",
      "          sci.electronics 0.86 0.72 0.78\n",
      "                  sci.med 0.96 0.89 0.93\n",
      "                sci.space 0.90 0.93 0.91\n",
      "confusion matrix:\n",
      "[[191  13  10   6  15   3   5   3   5]\n",
      " [ 10 197  22   1  14   0   1   0   0]\n",
      " [  3  25 187  19   4   0   8   0   1]\n",
      " [  2   6  14 198   2   0   3   0   2]\n",
      " [ 12  14   2   2 207   2   0   0   3]\n",
      " [  5   2   1   0   3 220   3   2   2]\n",
      " [ 12   8  19  19   2   2 189   0  10]\n",
      " [  5   4   0   2   1   2  10 234   4]\n",
      " [  5   1   4   1   1   0   2   4 232]]\n"
     ]
    }
   ],
   "source": [
    "from sklearn.feature_extraction.text import TfidfTransformer\n",
    "\n",
    "# Define the CountVectorizer using the bigrams and unigrams.\n",
    "bigrams_bow_vectorizer = CountVectorizer(lowercase = False ,\n",
    "                         tokenizer = lambda x: x, # because we already have tokens available\n",
    "                         stop_words = None, ## stop words removal already done from NLTK\n",
    "                         max_features = 5000, ## pick top 5K words by frequency\n",
    "                         ngram_range = (1, 2), ## we want bigrams for now\n",
    "                         binary = False) ## we want frequency count features\n",
    "pipeline = Pipeline([\n",
    "    ('bow',  bigrams_bow_vectorizer),\n",
    "    ('tfidf', TfidfTransformer()),\n",
    "    ('naive-bayes',  MultinomialNB())])\n",
    "pipeline.fit(train_X,train_y)\n",
    "preds_tfidf_bigrams = pipeline.predict(test_X)\n",
    "acc_tfidf_bigrams = print_metrics(test_y, preds_tfidf_bigrams)"
   ]
  },
  {
   "cell_type": "markdown",
   "metadata": {},
   "source": [
    "<span style=\"color:blue\">\n",
    "    \n",
    "### Did changing the model to use bigram and unigram features increase or decrease the model's performance? Explain why the performance did or did not change. [1 pts]\n",
    "</span>"
   ]
  },
  {
   "cell_type": "markdown",
   "metadata": {},
   "source": [
    "<span style=\"color:blue\"> YOUR ANSWER HERE </span> <br>\n",
    "Using the bigram and unigram features instead of unigram features, the model's performance decreases.\n",
    "When both bigram and unigram are used, the total number of selected words is still 5000 which means some unigrams and bigrams are unseen in word set. Also, the words are slected by frequency which may cause some bigrams with high frequency (like 'there is', 'it is') are used for classification. Such bigrams are not a characteristic bigram. So the model is not well trained. The performance decreases."
   ]
  },
  {
   "cell_type": "code",
   "execution_count": 16,
   "metadata": {},
   "outputs": [
    {
     "data": {
      "text/plain": [
       "<matplotlib.axes._subplots.AxesSubplot at 0x1a2f23a5f8>"
      ]
     },
     "execution_count": 16,
     "metadata": {},
     "output_type": "execute_result"
    },
    {
     "data": {
      "image/png": "[encoded data removed]",
      "text/plain": [
       "<Figure size 432x288 with 1 Axes>"
      ]
     },
     "metadata": {
      "needs_background": "light"
     },
     "output_type": "display_data"
    }
   ],
   "source": [
    "accuracies = pd.DataFrame(\n",
    "    [('unigrams', acc_tfidf),  ('bigrams', acc_tfidf_bigrams)], \n",
    "    columns = ['n-grams', 'accuracy']\n",
    ").set_index('n-grams')\n",
    "accuracies.plot.bar(ylim = (0.8, 0.9))"
   ]
  },
  {
   "cell_type": "markdown",
   "metadata": {},
   "source": [
    "Let's see what bigrams features look like."
   ]
  },
  {
   "cell_type": "code",
   "execution_count": 17,
   "metadata": {
    "scrolled": false
   },
   "outputs": [
    {
     "name": "stdout",
     "output_type": "stream",
     "text": [
      "['aa', 'ab', 'abil', 'abl', 'abl get', 'abort', 'absolut', 'abstract', 'abus', 'ac', 'ac edu', 'ac il', 'ac nz', 'ac uk', 'ac za', 'academ', 'acc', 'acceler', 'accept', 'access', 'access digex', 'access onlin', 'access unix', 'accomplish', 'accord', 'account', 'accur', 'accuraci', 'achiev', 'acid', 'acknowledg', 'acm', 'acn', 'acquir', 'across', 'acsu', 'acsu buffalo', 'act', 'action', 'activ', 'actual', 'ad', 'adam', 'adapt', 'adaptec', 'adb', 'add', 'addit', 'address', 'adequ', 'adjust', 'admin', 'administr', 'admit', 'adob', 'adopt', 'adrian', 'advanc', 'advantag', 'advertis', 'advic', 'advis', 'advoc', 'ae', 'aerospac', 'af', 'af mil', 'affect', 'afford', 'afraid', 'age', 'agenc', 'agent', 'ago', 'agre', 'ah', 'ah g', 'ahead', 'ahf', 'ai', 'ai uga', 'aid', 'aim', 'air', 'air forc', 'air g', 'aircraft', 'aix', 'aka', 'al', 'ala', 'alan', 'alaska', 'alaska edu', 'alex', 'alexand', 'algorithm', 'alien', 'allen', 'allerg']\n"
     ]
    }
   ],
   "source": [
    "print(bigrams_bow_vectorizer.get_feature_names()[:100])"
   ]
  },
  {
   "cell_type": "markdown",
   "metadata": {},
   "source": [
    "We can notice sequences of two tokens used as features."
   ]
  },
  {
   "cell_type": "markdown",
   "metadata": {},
   "source": [
    "# ADDITIONAL MATERIAL \n",
    "\n",
    "## Distance metrics and searching in the Vector Space Model\n",
    "\n",
    "### Distance metrics for a document\n",
    "\n",
    "In the previous tutorial, we used boolean logic on the set representation of features to perform exact document match. With vector representations introduced in this module, we can query for partial matches. \n",
    "\n",
    "The degree of matching can be quantified by similarity metrics. \n",
    "The similarity metrics can be computed from distance metrics, where the distance between documents are computed in vector spaces. There are two popular choices for distance metrics in this space:\n",
    "1. Cosine distance\n",
    "2. Euclidean distance\n",
    "\n",
    "To search for similar documents, we use the candidates that has minimum distance with the query's vector representation. We use the TFIDF vectorizer with unigrams representation for this."
   ]
  },
  {
   "cell_type": "code",
   "execution_count": 18,
   "metadata": {},
   "outputs": [],
   "source": [
    "vectorizer = Pipeline([\n",
    "    ('bow',  bow_vectorizer),\n",
    "    ('tfidf',  TfidfTransformer())])\n",
    "vectorizer.fit(dataset.tokens)\n",
    "tfidf_vec = vectorizer.transform(dataset.tokens)"
   ]
  },
  {
   "cell_type": "markdown",
   "metadata": {},
   "source": [
    "Let's use this vectorizer to create a vector representation of our previous two queries: `research seminar` and `scientific visualization`"
   ]
  },
  {
   "cell_type": "code",
   "execution_count": 19,
   "metadata": {},
   "outputs": [],
   "source": [
    "tokens1 = preprocessor(\"research seminar\")\n",
    "query_vec1 = vectorizer.transform([tokens1])\n",
    "\n",
    "tokens2 = preprocessor(\"scientific visualization\")\n",
    "query_vec2 = vectorizer.transform([tokens2])"
   ]
  },
  {
   "cell_type": "markdown",
   "metadata": {},
   "source": [
    "The implementation of the distance metrics are provided in the file `dist.py`. \n",
    "Have a look at the functions provided there.\n",
    "\n",
    "We can use the provided `dist` function as:"
   ]
  },
  {
   "cell_type": "code",
   "execution_count": 20,
   "metadata": {},
   "outputs": [
    {
     "name": "stdout",
     "output_type": "stream",
     "text": [
      "cosine distance = 1.0, euclid distance = 1.4142135623730951\n"
     ]
    }
   ],
   "source": [
    "from dist import dist, search\n",
    "cosine_distance = dist(query_vec1.toarray().squeeze(), query_vec2.toarray().squeeze(), method = 'cosine')\n",
    "euclid_distance = dist(query_vec1.toarray().squeeze(), query_vec2.toarray().squeeze(), method = 'euclid')\n",
    "\n",
    "print('cosine distance = {}, euclid distance = {}'.format(cosine_distance, euclid_distance))"
   ]
  },
  {
   "cell_type": "markdown",
   "metadata": {},
   "source": [
    "### Search and ranking\n",
    "\n",
    "We use the same distance measures to search for similar documents for a query text. \n",
    "The most similar documents in our collections are the ones that have lowest distance against the query string. \n",
    "We can also use the distance to rank the search results.\n",
    "\n",
    "Have a look at search function in `dist.py`. \n",
    "\n",
    "Top 5 matches with `research seminar`:"
   ]
  },
  {
   "cell_type": "code",
   "execution_count": 21,
   "metadata": {},
   "outputs": [
    {
     "data": {
      "text/html": [
       "<div>\n",
       "<style scoped>\n",
       "    .dataframe tbody tr th:only-of-type {\n",
       "        vertical-align: middle;\n",
       "    }\n",
       "\n",
       "    .dataframe tbody tr th {\n",
       "        vertical-align: top;\n",
       "    }\n",
       "\n",
       "    .dataframe thead th {\n",
       "        text-align: right;\n",
       "    }\n",
       "</style>\n",
       "<table border=\"1\" class=\"dataframe\">\n",
       "  <thead>\n",
       "    <tr style=\"text-align: right;\">\n",
       "      <th></th>\n",
       "      <th>id</th>\n",
       "      <th>category</th>\n",
       "      <th>text</th>\n",
       "      <th>tokens</th>\n",
       "    </tr>\n",
       "  </thead>\n",
       "  <tbody>\n",
       "    <tr>\n",
       "      <td>4977</td>\n",
       "      <td>38609</td>\n",
       "      <td>comp.graphics</td>\n",
       "      <td>From: lipman@oasys.dt.navy.mil (Robert Lipman)...</td>\n",
       "      <td>[lipman, oasi, dt, navi, mil, robert, lipman, ...</td>\n",
       "    </tr>\n",
       "    <tr>\n",
       "      <td>1534</td>\n",
       "      <td>8514</td>\n",
       "      <td>comp.os.ms-windows.misc</td>\n",
       "      <td>From: lipman@oasys.dt.navy.mil (Robert Lipman)...</td>\n",
       "      <td>[lipman, oasi, dt, navi, mil, robert, lipman, ...</td>\n",
       "    </tr>\n",
       "    <tr>\n",
       "      <td>5826</td>\n",
       "      <td>37261</td>\n",
       "      <td>comp.graphics</td>\n",
       "      <td>From: lipman@oasys.dt.navy.mil (Robert Lipman)...</td>\n",
       "      <td>[lipman, oasi, dt, navi, mil, robert, lipman, ...</td>\n",
       "    </tr>\n",
       "    <tr>\n",
       "      <td>5055</td>\n",
       "      <td>38582</td>\n",
       "      <td>comp.graphics</td>\n",
       "      <td>From: chris@sarah.lerc.nasa.gov (Chris Johnsto...</td>\n",
       "      <td>[chris, sarah, lerc, nasa, gov, chris, johnsto...</td>\n",
       "    </tr>\n",
       "    <tr>\n",
       "      <td>5516</td>\n",
       "      <td>38782</td>\n",
       "      <td>comp.graphics</td>\n",
       "      <td>From: dsg@ecrc.de (Douglas S. Greer)\\nSubject:...</td>\n",
       "      <td>[dsg, ecrc, de, dougla, greer, subject, resear...</td>\n",
       "    </tr>\n",
       "  </tbody>\n",
       "</table>\n",
       "</div>"
      ],
      "text/plain": [
       "         id                 category  \\\n",
       "4977  38609            comp.graphics   \n",
       "1534   8514  comp.os.ms-windows.misc   \n",
       "5826  37261            comp.graphics   \n",
       "5055  38582            comp.graphics   \n",
       "5516  38782            comp.graphics   \n",
       "\n",
       "                                                   text  \\\n",
       "4977  From: lipman@oasys.dt.navy.mil (Robert Lipman)...   \n",
       "1534  From: lipman@oasys.dt.navy.mil (Robert Lipman)...   \n",
       "5826  From: lipman@oasys.dt.navy.mil (Robert Lipman)...   \n",
       "5055  From: chris@sarah.lerc.nasa.gov (Chris Johnsto...   \n",
       "5516  From: dsg@ecrc.de (Douglas S. Greer)\\nSubject:...   \n",
       "\n",
       "                                                 tokens  \n",
       "4977  [lipman, oasi, dt, navi, mil, robert, lipman, ...  \n",
       "1534  [lipman, oasi, dt, navi, mil, robert, lipman, ...  \n",
       "5826  [lipman, oasi, dt, navi, mil, robert, lipman, ...  \n",
       "5055  [chris, sarah, lerc, nasa, gov, chris, johnsto...  \n",
       "5516  [dsg, ecrc, de, dougla, greer, subject, resear...  "
      ]
     },
     "execution_count": 21,
     "metadata": {},
     "output_type": "execute_result"
    }
   ],
   "source": [
    "## get indexes of the most similar documents \n",
    "idxs1 = search(tfidf_vec.toarray().squeeze(),\n",
    "        query_vec1.toarray().squeeze(),\n",
    "        dist_measure = 'cosine'\n",
    ")\n",
    "\n",
    "## ranked top 5 search results for query 'research seminar'\n",
    "dataset.iloc[idxs1]"
   ]
  },
  {
   "cell_type": "markdown",
   "metadata": {},
   "source": [
    "Top 5 matches with `scientific visualization` based on euclidean distance measure:"
   ]
  },
  {
   "cell_type": "code",
   "execution_count": 22,
   "metadata": {},
   "outputs": [
    {
     "data": {
      "text/html": [
       "<div>\n",
       "<style scoped>\n",
       "    .dataframe tbody tr th:only-of-type {\n",
       "        vertical-align: middle;\n",
       "    }\n",
       "\n",
       "    .dataframe tbody tr th {\n",
       "        vertical-align: top;\n",
       "    }\n",
       "\n",
       "    .dataframe thead th {\n",
       "        text-align: right;\n",
       "    }\n",
       "</style>\n",
       "<table border=\"1\" class=\"dataframe\">\n",
       "  <thead>\n",
       "    <tr style=\"text-align: right;\">\n",
       "      <th></th>\n",
       "      <th>id</th>\n",
       "      <th>category</th>\n",
       "      <th>text</th>\n",
       "      <th>tokens</th>\n",
       "    </tr>\n",
       "  </thead>\n",
       "  <tbody>\n",
       "    <tr>\n",
       "      <td>4691</td>\n",
       "      <td>68272</td>\n",
       "      <td>comp.windows.x</td>\n",
       "      <td>From: dbl@visual.COM\\nSubject: Re: 'makedepend...</td>\n",
       "      <td>[dbl, visual, com, subject, makedepend, proble...</td>\n",
       "    </tr>\n",
       "    <tr>\n",
       "      <td>4151</td>\n",
       "      <td>67279</td>\n",
       "      <td>comp.windows.x</td>\n",
       "      <td>Organization: Ministry of Education, Computer ...</td>\n",
       "      <td>[organ, ministri, educ, comput, center, netnew...</td>\n",
       "    </tr>\n",
       "    <tr>\n",
       "      <td>4882</td>\n",
       "      <td>67383</td>\n",
       "      <td>comp.windows.x</td>\n",
       "      <td>From: herlock@lclark.edu (Jon Herlocker)\\nSubj...</td>\n",
       "      <td>[herlock, lclark, edu, jon, herlock, subject, ...</td>\n",
       "    </tr>\n",
       "    <tr>\n",
       "      <td>4888</td>\n",
       "      <td>66893</td>\n",
       "      <td>comp.windows.x</td>\n",
       "      <td>From: stolk@fwi.uva.nl (Bram)\\nSubject: Creati...</td>\n",
       "      <td>[stolk, fwi, uva, nl, bram, subject, creat, bi...</td>\n",
       "    </tr>\n",
       "    <tr>\n",
       "      <td>4555</td>\n",
       "      <td>66996</td>\n",
       "      <td>comp.windows.x</td>\n",
       "      <td>From: gerard@dps.co.UK (Gerard O'Driscoll)\\nSu...</td>\n",
       "      <td>[gerard, dps, co, uk, gerard, driscol, subject...</td>\n",
       "    </tr>\n",
       "  </tbody>\n",
       "</table>\n",
       "</div>"
      ],
      "text/plain": [
       "         id        category  \\\n",
       "4691  68272  comp.windows.x   \n",
       "4151  67279  comp.windows.x   \n",
       "4882  67383  comp.windows.x   \n",
       "4888  66893  comp.windows.x   \n",
       "4555  66996  comp.windows.x   \n",
       "\n",
       "                                                   text  \\\n",
       "4691  From: dbl@visual.COM\\nSubject: Re: 'makedepend...   \n",
       "4151  Organization: Ministry of Education, Computer ...   \n",
       "4882  From: herlock@lclark.edu (Jon Herlocker)\\nSubj...   \n",
       "4888  From: stolk@fwi.uva.nl (Bram)\\nSubject: Creati...   \n",
       "4555  From: gerard@dps.co.UK (Gerard O'Driscoll)\\nSu...   \n",
       "\n",
       "                                                 tokens  \n",
       "4691  [dbl, visual, com, subject, makedepend, proble...  \n",
       "4151  [organ, ministri, educ, comput, center, netnew...  \n",
       "4882  [herlock, lclark, edu, jon, herlock, subject, ...  \n",
       "4888  [stolk, fwi, uva, nl, bram, subject, creat, bi...  \n",
       "4555  [gerard, dps, co, uk, gerard, driscol, subject...  "
      ]
     },
     "execution_count": 22,
     "metadata": {},
     "output_type": "execute_result"
    }
   ],
   "source": [
    "idxs2 = search(tfidf_vec.toarray().squeeze(),\n",
    "        query_vec2.toarray().squeeze(),\n",
    "        dist_measure = 'euclid'\n",
    ")\n",
    "\n",
    "## ranked top 5 search results for query 'research seminar'\n",
    "dataset.iloc[idxs2]"
   ]
  },
  {
   "cell_type": "markdown",
   "metadata": {
    "collapsed": true
   },
   "source": [
    "## AUC and ROC \n",
    "\n",
    "Another popular evaluation metric for evaluating per class performance of a classifier is the [Area under Curve (AUC) of the Receiver Operating Characteristics (ROC)](https://en.wikipedia.org/wiki/Receiver_operating_characteristic). \n",
    "\n",
    "The ROC curve plots the true positive rate (Sensitivity) against the false positive rate (Specificity) for different cut-off points. \n",
    "Each point on the ROC curve represents a sensitivity/specificity pair corresponding to a particular decision threshold. \n",
    "\n",
    "AUC is the area under ROC curve. $ AUC \\in [0.5, 1]$ and a value of $0.5$ corresponds to a random classifiers. Higher is better.\n",
    "\n",
    "The block below demonstrates how we can use matplotlib (python plotting library) and scikit's evaluation metric functions to plot per class performance of our classifier. \n",
    "We will see the plot for our best performing classifier (i.e. TFIDF with bigrams feature representation)."
   ]
  },
  {
   "cell_type": "code",
   "execution_count": 23,
   "metadata": {},
   "outputs": [
    {
     "data": {
      "image/png": "[encoded data removed]",
      "text/plain": [
       "<Figure size 648x432 with 1 Axes>"
      ]
     },
     "metadata": {
      "needs_background": "light"
     },
     "output_type": "display_data"
    }
   ],
   "source": [
    "from itertools import cycle\n",
    "from sklearn.metrics import roc_curve, auc\n",
    "\n",
    "pipeline = Pipeline([\n",
    "    ('bigram_bow',  bigrams_bow_vectorizer),\n",
    "    ('tfidf',  TfidfTransformer()),\n",
    "    ('naive-bayes',  MultinomialNB()) ])\n",
    "\n",
    "## Fit the data\n",
    "pipeline.fit(train_X, train_y)\n",
    "\n",
    "## This function plots the ROC curve\n",
    "def plot_roc(labels, probs, le):\n",
    "    colors = cycle(['aqua', 'red', 'green', 'blue', 'yellow', 'cyan', 'magenta', 'violet', 'purple', 'black', 'grey'])\n",
    "    fpr, tpr = dict(), dict()\n",
    "    roc_auc = dict()\n",
    "    for label in range(len(list(le.classes_))):\n",
    "        color = next(colors)\n",
    "        fpr[label], tpr[label], _ = roc_curve(test_y == label, probs[:, label])\n",
    "        roc_auc[label] = auc(fpr[label], tpr[label])\n",
    "        plt.plot(fpr[label], tpr[label], color = color, lw=2,\n",
    "                 label ='ROC of {0} | auc = {1:0.2f}'\n",
    "                 ''.format(le.inverse_transform([label])[0], roc_auc[label]))\n",
    "    plt.xlim([0.0, 1.1])\n",
    "    plt.ylim([0.0, 1.1])\n",
    "    plt.xlabel('False Positive Rate')\n",
    "    plt.ylabel('True Positive Rate')\n",
    "    plt.title('ROC Curve')\n",
    "    plt.legend(loc=\"lower right\")\n",
    "\n",
    "plt.figure(figsize=(9, 6))  # the plot size you want\n",
    "\n",
    "## see accuracy and confusion matrix\n",
    "preds_tfidf_bigrams = pipeline.predict_proba(test_X)\n",
    "plot_roc(test_y, preds_tfidf_bigrams, le)"
   ]
  },
  {
   "cell_type": "code",
   "execution_count": null,
   "metadata": {},
   "outputs": [],
   "source": []
  }
 ],
 "metadata": {
  "kernelspec": {
   "display_name": "Python 3",
   "language": "python",
   "name": "python3"
  },
  "language_info": {
   "codemirror_mode": {
    "name": "ipython",
    "version": 3
   },
   "file_extension": ".py",
   "mimetype": "text/x-python",
   "name": "python",
   "nbconvert_exporter": "python",
   "pygments_lexer": "ipython3",
   "version": "3.7.3"
  }
 },
 "nbformat": 4,
 "nbformat_minor": 2
}
